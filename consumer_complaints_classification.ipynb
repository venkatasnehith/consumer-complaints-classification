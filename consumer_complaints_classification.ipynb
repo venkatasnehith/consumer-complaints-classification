{
  "nbformat": 4,
  "nbformat_minor": 0,
  "metadata": {
    "colab": {
      "provenance": [],
      "authorship_tag": "ABX9TyPJEj/GdBe/BeMh+dnYfuZL",
      "include_colab_link": true
    },
    "kernelspec": {
      "name": "python3",
      "display_name": "Python 3"
    },
    "language_info": {
      "name": "python"
    }
  },
  "cells": [
    {
      "cell_type": "markdown",
      "metadata": {
        "id": "view-in-github",
        "colab_type": "text"
      },
      "source": [
        "<a href=\"https://colab.research.google.com/github/venkatasnehith/consumer-complaints-classification/blob/main/consumer_complaints_classification.ipynb\" target=\"_parent\"><img src=\"https://colab.research.google.com/assets/colab-badge.svg\" alt=\"Open In Colab\"/></a>"
      ]
    },
    {
      "cell_type": "code",
      "source": [
        "!pip install kagglehub scikit-learn pandas matplotlib seaborn --quiet\n"
      ],
      "metadata": {
        "id": "dvyi1WE860vG"
      },
      "execution_count": 8,
      "outputs": []
    },
    {
      "cell_type": "code",
      "source": [
        "import kagglehub\n",
        "\n",
        "# Download the dataset\n",
        "path = kagglehub.dataset_download(\"shashwatwork/consume-complaints-dataset-fo-nlp\")\n",
        "print(\"✅ Dataset path:\", path)\n"
      ],
      "metadata": {
        "colab": {
          "base_uri": "https://localhost:8080/"
        },
        "id": "AocNdBqB7LUs",
        "outputId": "ea71ef7c-817d-4cba-c5c6-49c1048b8d16"
      },
      "execution_count": 9,
      "outputs": [
        {
          "output_type": "stream",
          "name": "stdout",
          "text": [
            "✅ Dataset path: /kaggle/input/consume-complaints-dataset-fo-nlp\n"
          ]
        }
      ]
    },
    {
      "cell_type": "code",
      "source": [
        "import os\n",
        "import pandas as pd\n",
        "\n",
        "# Check all files\n",
        "print(\"📁 Files in dataset folder:\")\n",
        "for file in os.listdir(path):\n",
        "    print(\" -\", file)\n"
      ],
      "metadata": {
        "colab": {
          "base_uri": "https://localhost:8080/"
        },
        "id": "0T2IaxhM7ONM",
        "outputId": "ad62ecff-e77a-436b-e177-b0a45db313a2"
      },
      "execution_count": 10,
      "outputs": [
        {
          "output_type": "stream",
          "name": "stdout",
          "text": [
            "📁 Files in dataset folder:\n",
            " - complaints_processed.csv\n"
          ]
        }
      ]
    },
    {
      "cell_type": "code",
      "source": [
        "for file in os.listdir(path):\n",
        "    if file.endswith(\".csv\"):\n",
        "        try:\n",
        "            df = pd.read_csv(os.path.join(path, file))\n",
        "            print(\"✅ Successfully loaded:\", file)\n",
        "            break\n",
        "        except Exception as e:\n",
        "            print(\"❌ Could not load:\", file, \"\\n\", e)\n"
      ],
      "metadata": {
        "colab": {
          "base_uri": "https://localhost:8080/"
        },
        "id": "q4cVmolD7b_7",
        "outputId": "0f947baf-386c-4373-94cb-8c03d8511b04"
      },
      "execution_count": 13,
      "outputs": [
        {
          "output_type": "stream",
          "name": "stdout",
          "text": [
            "✅ Successfully loaded: complaints_processed.csv\n"
          ]
        }
      ]
    },
    {
      "cell_type": "code",
      "source": [
        "# Let's see column names\n",
        "df.columns\n"
      ],
      "metadata": {
        "colab": {
          "base_uri": "https://localhost:8080/"
        },
        "id": "q0SXqSlG7m57",
        "outputId": "dd6e2a6f-a9c7-4eeb-a1d7-92d36ec9f545"
      },
      "execution_count": 14,
      "outputs": [
        {
          "output_type": "execute_result",
          "data": {
            "text/plain": [
              "Index(['Unnamed: 0', 'product', 'narrative'], dtype='object')"
            ]
          },
          "metadata": {},
          "execution_count": 14
        }
      ]
    },
    {
      "cell_type": "code",
      "source": [
        "df = df[['product', 'narrative']].dropna()\n",
        "df = df[df['narrative'].str.strip() != '']\n"
      ],
      "metadata": {
        "id": "wfoGQmqm73yI"
      },
      "execution_count": 17,
      "outputs": []
    },
    {
      "cell_type": "code",
      "source": [
        "df.rename(columns={'product': 'label', 'narrative': 'text'}, inplace=True)\n"
      ],
      "metadata": {
        "id": "JYIGnSED8BdD"
      },
      "execution_count": 18,
      "outputs": []
    },
    {
      "cell_type": "code",
      "source": [
        "import re\n",
        "\n",
        "def clean_text(text):\n",
        "    text = re.sub(r'[^a-zA-Z]', ' ', text)  # Keep letters only\n",
        "    text = text.lower()\n",
        "    return text\n",
        "\n",
        "df['clean_text'] = df['text'].apply(clean_text)\n"
      ],
      "metadata": {
        "id": "cfM8sbHy8FTe"
      },
      "execution_count": 19,
      "outputs": []
    },
    {
      "cell_type": "code",
      "source": [
        "from sklearn.model_selection import train_test_split\n",
        "from sklearn.preprocessing import LabelEncoder\n",
        "\n",
        "le = LabelEncoder()\n",
        "df['label_encoded'] = le.fit_transform(df['label'])\n",
        "\n",
        "X = df['clean_text']\n",
        "y = df['label_encoded']\n",
        "\n",
        "X_train, X_test, y_train, y_test = train_test_split(X, y, test_size=0.2, random_state=42)\n"
      ],
      "metadata": {
        "id": "JMQOWwHH8LKW"
      },
      "execution_count": 20,
      "outputs": []
    },
    {
      "cell_type": "code",
      "source": [
        "from sklearn.feature_extraction.text import TfidfVectorizer\n",
        "\n",
        "vectorizer = TfidfVectorizer(max_features=5000)\n",
        "X_train_vec = vectorizer.fit_transform(X_train)\n",
        "X_test_vec = vectorizer.transform(X_test)\n"
      ],
      "metadata": {
        "id": "yRlZS8tp8TxR"
      },
      "execution_count": 21,
      "outputs": []
    },
    {
      "cell_type": "code",
      "source": [
        "from sklearn.linear_model import LogisticRegression\n",
        "from sklearn.metrics import accuracy_score, classification_report\n",
        "\n",
        "model = LogisticRegression(max_iter=1000)\n",
        "model.fit(X_train_vec, y_train)\n",
        "\n",
        "y_pred = model.predict(X_test_vec)\n",
        "\n",
        "print(\"✅ Accuracy:\", accuracy_score(y_test, y_pred))\n",
        "print(classification_report(y_test, y_pred, target_names=le.classes_))\n"
      ],
      "metadata": {
        "colab": {
          "base_uri": "https://localhost:8080/"
        },
        "id": "4GoCwdQ78ZaK",
        "outputId": "db909e7b-85bd-4346-ed05-761bdc4e1bfc"
      },
      "execution_count": 22,
      "outputs": [
        {
          "output_type": "stream",
          "name": "stdout",
          "text": [
            "✅ Accuracy: 0.8721485084505741\n",
            "                     precision    recall  f1-score   support\n",
            "\n",
            "        credit_card       0.79      0.77      0.78      3132\n",
            "   credit_reporting       0.90      0.94      0.92     18283\n",
            "    debt_collection       0.81      0.72      0.76      4615\n",
            "mortgages_and_loans       0.86      0.82      0.84      3770\n",
            "     retail_banking       0.87      0.89      0.88      2683\n",
            "\n",
            "           accuracy                           0.87     32483\n",
            "          macro avg       0.85      0.83      0.84     32483\n",
            "       weighted avg       0.87      0.87      0.87     32483\n",
            "\n"
          ]
        }
      ]
    },
    {
      "cell_type": "code",
      "source": [
        "import joblib\n",
        "\n",
        "joblib.dump(model, \"complaint_classifier.pkl\")\n",
        "joblib.dump(vectorizer, \"vectorizer.pkl\")\n",
        "joblib.dump(le, \"label_encoder.pkl\")\n"
      ],
      "metadata": {
        "colab": {
          "base_uri": "https://localhost:8080/"
        },
        "id": "FhfJhvaw8bHV",
        "outputId": "59829af5-f7b9-4ca4-affb-1c701c3d0b8b"
      },
      "execution_count": 23,
      "outputs": [
        {
          "output_type": "execute_result",
          "data": {
            "text/plain": [
              "['label_encoder.pkl']"
            ]
          },
          "metadata": {},
          "execution_count": 23
        }
      ]
    },
    {
      "cell_type": "code",
      "source": [
        "# Load your saved model and components\n",
        "import joblib\n",
        "\n",
        "model = joblib.load(\"complaint_classifier.pkl\")\n",
        "vectorizer = joblib.load(\"vectorizer.pkl\")\n",
        "le = joblib.load(\"label_encoder.pkl\")\n"
      ],
      "metadata": {
        "id": "GPOEuvRv9J0r"
      },
      "execution_count": 24,
      "outputs": []
    },
    {
      "cell_type": "code",
      "source": [
        "def predict_complaint_category(complaint_text):\n",
        "    # Clean the text just like before\n",
        "    import re\n",
        "    def clean_text(text):\n",
        "        text = re.sub(r'[^a-zA-Z]', ' ', text)\n",
        "        text = text.lower()\n",
        "        return text\n",
        "\n",
        "    cleaned = clean_text(complaint_text)\n",
        "    vect_text = vectorizer.transform([cleaned])\n",
        "    pred = model.predict(vect_text)[0]\n",
        "    label = le.inverse_transform([pred])[0]\n",
        "\n",
        "    return label\n"
      ],
      "metadata": {
        "id": "NX3wgIoK9MXn"
      },
      "execution_count": 25,
      "outputs": []
    },
    {
      "cell_type": "code",
      "source": [
        "example = \"I was charged late fees despite paying on time.\"\n",
        "print(\"Predicted Category:\", predict_complaint_category(example))\n"
      ],
      "metadata": {
        "colab": {
          "base_uri": "https://localhost:8080/"
        },
        "id": "xOW8ZxGj9PpQ",
        "outputId": "83dfe20e-56b2-4f65-f521-e1d423ffb71f"
      },
      "execution_count": 26,
      "outputs": [
        {
          "output_type": "stream",
          "name": "stdout",
          "text": [
            "Predicted Category: credit_card\n"
          ]
        }
      ]
    },
    {
      "cell_type": "code",
      "source": [
        "df['text'].sample(5).values\n"
      ],
      "metadata": {
        "colab": {
          "base_uri": "https://localhost:8080/"
        },
        "id": "VNKEqWF293z6",
        "outputId": "7e3bc983-796d-45b8-86ed-bc12582bdeaf"
      },
      "execution_count": 28,
      "outputs": [
        {
          "output_type": "execute_result",
          "data": {
            "text/plain": [
              "array(['inquiry dont recognize lender giving authorization perform hard inquiry',\n",
              "       'reported credit bureau mortgage company event control definitely accident brief timeline mortgage automatically debited account one four mortgage withdrawn one company auto lease automatically debited account one many mortgage recurring bill withdrawn one choose bank dealer set lease thought would dealing done work house year prior changed name date previously deposited check attempted deposit caught right away contacted fraud department immediately put account hold lock access almost still account attempted try resolve issue phone said must come branch nearest branch area closed public due corona virus choice fly least mile branch open order identify person due many bill automatically paid account opened another account fl directed work make ach payment new account funded extra well proceeded enter new account information dozen payment go every month tried charge account showed invalid could settled outgoing payment honored behalf immediately made payment online new account entered new information online application thought would crossed list done deal unbeknownst mortgage payment going company attempted call told received call must several number blocked receiving marketing sale call several time week received letter mail two month arrear picked phone completed phone payment bring account current day confirmation asked covid hardship replied mind mortgage withdrawn time logged csr still line verified new account indeed listed web page profile bringing account current supposed log select automatic debit company proceeded alert credit bureau score came point attach payment history well copy fraudulent check set whole chain event prompted tried charge account showed invalid could settled outgoing payment honored behalf immediately made payment online new account entered new information submitting printed form instructed online web page thought would crossed list done deal unbeknownst lease payment going company mailed letter house past day late went previous address immediately made payment account reference including one late fee customer service representative instructed go back website order enter new account information also claimed never received paper form logged customer service representative still line unable find place location within website enter new account information automatic payment link pay current payment due time find another paper form provide prompted customer service representative unable walk website seemed unfamiliar page within kept saying go enter information asked customer service representative another way pay contest late fee well set automatic payment without using paper form didnt want run situation claim receive form customer service representative proceeded suggest visit nearest branch kentucky live company proceeded alert credit bureau score came dramatically provide copy two online form well copy fraudulent check set whole chain event prompted please try resolve call alert credit agency remove stain record prior incident score came experian one access top decade timely payment excellent credit kindly respond receipt letter thank advance',\n",
              "       'received phone call yesterday regard loan allegedly taken residing address mentioned also never heard company reporting credit bureau stating account would placed credit bureau second account legit beyond statue limitation state mainexxxx',\n",
              "       'never knew sending money incarcerated mentee usig capital one credit card considered cash advancement using considered cash advancement prohibited obtaining credit increase fee practice discriminatory target people trying send incarcerated people money akin redlining real estate industry',\n",
              "       'account added created unbeknownst notice concern hold accountable accuse complicity exercise malevolent hereby mark likely one might one day view civil discord would plaintiff yet declare unjust claim met deliberate determined resistance counteraction clarity claim debt collection insufficient collection much le reporting must delete unjust injurious allegation significantly deficient requisite certified reporting compliance perfect metro format reporting testimonial evidence physically verifiable proof validation related full truth accuracy completeness timeliness ownership identity true debtor date balance audit calculation source code creditor collection code statement associated trailing fragment minimal five portioned personal identifier pay status required confirmation collection elsewise standard mandatory proper reporting mentioned although checking addressing missing deficient aspect reporting compliance contesting debt compliant nature make aware since unlawful reporting transition collection equally complaint circumstance still yet validated document fact compliance requisite standard announced yet legally knowledge validity alleged claim delinquency derogatory nature certifiably compliant matter either collection attempt reporting despite previous consumer filed composed complaint checking might known especially shall elect take matter civil court debt derogatory claim must pursued particularly collection defined precisely compliant physically verifiable certifiable manner detailed requisite obeyed federal state collection reporting regulation associated noted said claim include limited fcba fcra hipaa privacy rule facta fdcpa tcpa etc additionally entity act collector also elect act reporting party consumer credit must well adhere every single one even regulatory reporting requisite standard reporting legal standing full accordance law accepted reporting standard date plaintiff failed demonstrate capacity willingness validate alleged debt much le certify fair accurate complete compliant reporting claim particularly significantly deficient display certified metro compliance given fact recent breach information collection repository hesitating readily accept presented without testimonial certified physically verifiable document evidence claim legitimate deny nothing yet reserve right question unproven claim accept statement claim plaintiff call court reject claim untrue unverified incomplete compliant otherwise invalid thereby dischargeable requirement dismissed full demand said court resolution today even full accord regulatory statute mentioned date received knowledge ever entering contractual relationship plaintiff forward civil complaint entity y allegedly issued defaulted line credit accusation similar despite repeated call accuser demonstrate requisite presented physically verifiable document proof adequately acquired permissible purpose exactly individual irrefutably identified acknowledgement relationship party mentioned form knowledge ever knowingly acknowledging even unknowingly owe proven compliantly reported debt much le claim unproven debt alleged written declaration checking validity claim also document proof certifiable testimony factual complete compliance standard law even mandatory metro format compliance obvious allegation filed accuser plaintiff clear subterfuge act willful disregard ethical practice done ignorance requisite ethical regulatory compliant behavior accusation collection effort credit reporting claim vile nature derelict unjustly injurious unlawful doubt call dismissal plaintiff statement claim discharge misreported delinquency derogatory behavior accuser complaint undeniably unfairly lodged versus knowledge ever receiving proven document fact statement account account aspect item alleged debt delinquent action reiterate called accuser present document certifiably true correct complete adequately compliant documentation full validation claim right collect alleged claim right report alleged claim let true compliance regulatory requisite mandatory optional plaintiff claim mute legal standing full accordance law must dismissed knowledge ever entering open account plaintiff entity y allegedly issued defaulted line credit derogatory claim credit fact claim even submitted adequate compliant proof genesis relationship inability prove application permissible purpose said alleged application agreement contract describing relationship related alleged claim account debt otherwise derelict documentation claim inherently make invalid plaintiff whole statement claim summons complaint request court resolve adequately compliantly required immediate eradication complaint charge rectification injurious collection reporting practice compliance appropriate collection practice equally compliance appropriate complete reporting practice mandatory optional stand proven otherwise complaining plaintiff unjustly unethically likely illegally absolute deficiency requisite legal standing full accordance applicable law mentioned collection practice well reporting practice particularly inability unwillingness timely fully certify physically verifiable document proof full validity debt claim compliance reporting even mandatory metro format declare right preference stand claim plaintiff call authority integrity ensure truth claim correctness claim completeness claim ownership responsibility debt delinquency debt alleged noted claim perfect compliance collection action related claim compliance reporting action related claim'],\n",
              "      dtype=object)"
            ]
          },
          "metadata": {},
          "execution_count": 28
        }
      ]
    },
    {
      "cell_type": "code",
      "source": [
        "print(predict_complaint_category(\"I was charged a late fee even though I paid my loan on time.\"))\n"
      ],
      "metadata": {
        "colab": {
          "base_uri": "https://localhost:8080/"
        },
        "id": "t4XkDx8y9_V3",
        "outputId": "e87ce656-4a9e-42ad-c141-849fe4d669a6"
      },
      "execution_count": 29,
      "outputs": [
        {
          "output_type": "stream",
          "name": "stdout",
          "text": [
            "mortgages_and_loans\n"
          ]
        }
      ]
    },
    {
      "cell_type": "code",
      "source": [
        "print(le.classes_)\n"
      ],
      "metadata": {
        "colab": {
          "base_uri": "https://localhost:8080/"
        },
        "id": "20iXux16-JTb",
        "outputId": "135b6daa-c11c-4614-f49f-100acc93d07d"
      },
      "execution_count": 31,
      "outputs": [
        {
          "output_type": "stream",
          "name": "stdout",
          "text": [
            "['credit_card' 'credit_reporting' 'debt_collection' 'mortgages_and_loans'\n",
            " 'retail_banking']\n"
          ]
        }
      ]
    },
    {
      "cell_type": "code",
      "source": [
        "def predict_complaint_category(complaint_text):\n",
        "    import re\n",
        "\n",
        "    # Clean the text\n",
        "    def clean_text(text):\n",
        "        text = re.sub(r'[^a-zA-Z]', ' ', text)\n",
        "        text = text.lower()\n",
        "        return text\n",
        "\n",
        "    cleaned = clean_text(complaint_text)\n",
        "    vect_text = vectorizer.transform([cleaned])\n",
        "\n",
        "    # Predict class and probability\n",
        "    probs = model.predict_proba(vect_text)[0]  # Get probability for each class\n",
        "    max_prob = max(probs)                     # Maximum probability\n",
        "    pred_class_index = probs.argmax()         # Class with highest probability\n",
        "\n",
        "    # Set confidence threshold\n",
        "    threshold = 0.5\n",
        "\n",
        "    if max_prob < threshold:\n",
        "        return \"❓ Uncertain / Unrelated\"\n",
        "    else:\n",
        "        return le.inverse_transform([pred_class_index])[0]\n",
        "\n",
        "\n",
        "# 🔵 Interactive input\n",
        "user_input = input(\"Enter your complaint: \")\n",
        "predicted_label = predict_complaint_category(user_input)\n",
        "print(\"Predicted Category:\", predicted_label)\n"
      ],
      "metadata": {
        "colab": {
          "base_uri": "https://localhost:8080/"
        },
        "id": "PJRoz1cnCxL4",
        "outputId": "355b00f5-9480-405a-c2fd-536eb951aae5"
      },
      "execution_count": 40,
      "outputs": [
        {
          "output_type": "stream",
          "name": "stdout",
          "text": [
            "Enter your complaint: I was charged a late fee even though I paid my loan on time\n",
            "Predicted Category: mortgages_and_loans\n"
          ]
        }
      ]
    }
  ]
}